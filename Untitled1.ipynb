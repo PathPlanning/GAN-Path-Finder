{
 "cells": [
  {
   "cell_type": "code",
   "execution_count": 1,
   "metadata": {},
   "outputs": [],
   "source": [
    "import glob"
   ]
  },
  {
   "cell_type": "code",
   "execution_count": 2,
   "metadata": {},
   "outputs": [
    {
     "data": {
      "text/plain": [
       "2304"
      ]
     },
     "execution_count": 2,
     "metadata": {},
     "output_type": "execute_result"
    }
   ],
   "source": [
    "len(glob.glob('size_128/20_den_non_theta/*_log.png'))"
   ]
  },
  {
   "cell_type": "code",
   "execution_count": 3,
   "metadata": {},
   "outputs": [
    {
     "data": {
      "text/plain": [
       "2500"
      ]
     },
     "execution_count": 3,
     "metadata": {},
     "output_type": "execute_result"
    }
   ],
   "source": [
    "len(glob.glob('size_128/20_den_non_theta/*_img.png'))"
   ]
  },
  {
   "cell_type": "code",
   "execution_count": 8,
   "metadata": {},
   "outputs": [
    {
     "name": "stdout",
     "output_type": "stream",
     "text": [
      "size_128/20_den_non_theta/68_log.png\n",
      "size_128/20_den_non_theta/1964_log.png\n",
      "size_128/20_den_non_theta/2569_log.png\n",
      "size_128/20_den_non_theta/2249_log.png\n",
      "size_128/20_den_non_theta/2560_log.png\n",
      "size_128/20_den_non_theta/1066_log.png\n",
      "size_128/20_den_non_theta/2031_log.png\n",
      "size_128/20_den_non_theta/2612_log.png\n",
      "size_128/20_den_non_theta/2146_log.png\n",
      "size_128/20_den_non_theta/71_log.png\n",
      "size_128/20_den_non_theta/2906_log.png\n",
      "size_128/20_den_non_theta/1111_log.png\n",
      "size_128/20_den_non_theta/2002_log.png\n",
      "size_128/20_den_non_theta/1370_log.png\n",
      "size_128/20_den_non_theta/1094_log.png\n",
      "size_128/20_den_non_theta/1202_log.png\n",
      "size_128/20_den_non_theta/1393_log.png\n",
      "size_128/20_den_non_theta/314_log.png\n",
      "size_128/20_den_non_theta/1216_log.png\n",
      "size_128/20_den_non_theta/2668_log.png\n",
      "size_128/20_den_non_theta/1975_log.png\n",
      "size_128/20_den_non_theta/2603_log.png\n",
      "size_128/20_den_non_theta/1067_log.png\n",
      "size_128/20_den_non_theta/2491_log.png\n",
      "size_128/20_den_non_theta/551_log.png\n",
      "size_128/20_den_non_theta/928_log.png\n",
      "size_128/20_den_non_theta/1330_log.png\n",
      "size_128/20_den_non_theta/2782_log.png\n",
      "size_128/20_den_non_theta/2774_log.png\n",
      "size_128/20_den_non_theta/772_log.png\n",
      "size_128/20_den_non_theta/2599_log.png\n",
      "size_128/20_den_non_theta/1685_log.png\n",
      "size_128/20_den_non_theta/575_log.png\n",
      "size_128/20_den_non_theta/429_log.png\n",
      "size_128/20_den_non_theta/316_log.png\n",
      "size_128/20_den_non_theta/1101_log.png\n",
      "size_128/20_den_non_theta/218_log.png\n",
      "size_128/20_den_non_theta/633_log.png\n",
      "size_128/20_den_non_theta/109_log.png\n",
      "size_128/20_den_non_theta/917_log.png\n",
      "size_128/20_den_non_theta/766_log.png\n",
      "size_128/20_den_non_theta/2972_log.png\n",
      "size_128/20_den_non_theta/401_log.png\n",
      "size_128/20_den_non_theta/1264_log.png\n",
      "size_128/20_den_non_theta/2462_log.png\n",
      "size_128/20_den_non_theta/687_log.png\n",
      "size_128/20_den_non_theta/2745_log.png\n",
      "size_128/20_den_non_theta/1294_log.png\n",
      "size_128/20_den_non_theta/2728_log.png\n",
      "size_128/20_den_non_theta/853_log.png\n",
      "size_128/20_den_non_theta/75_log.png\n",
      "size_128/20_den_non_theta/2128_log.png\n",
      "size_128/20_den_non_theta/65_log.png\n",
      "size_128/20_den_non_theta/1742_log.png\n",
      "size_128/20_den_non_theta/143_log.png\n",
      "size_128/20_den_non_theta/2353_log.png\n",
      "size_128/20_den_non_theta/1009_log.png\n",
      "size_128/20_den_non_theta/502_log.png\n",
      "size_128/20_den_non_theta/1852_log.png\n",
      "size_128/20_den_non_theta/2422_log.png\n",
      "size_128/20_den_non_theta/349_log.png\n",
      "size_128/20_den_non_theta/368_log.png\n",
      "size_128/20_den_non_theta/962_log.png\n",
      "size_128/20_den_non_theta/2092_log.png\n",
      "size_128/20_den_non_theta/890_log.png\n",
      "size_128/20_den_non_theta/1208_log.png\n",
      "size_128/20_den_non_theta/915_log.png\n",
      "size_128/20_den_non_theta/1005_log.png\n",
      "size_128/20_den_non_theta/717_log.png\n",
      "size_128/20_den_non_theta/619_log.png\n",
      "size_128/20_den_non_theta/1389_log.png\n",
      "size_128/20_den_non_theta/208_log.png\n",
      "size_128/20_den_non_theta/2080_log.png\n",
      "size_128/20_den_non_theta/1049_log.png\n",
      "size_128/20_den_non_theta/481_log.png\n",
      "size_128/20_den_non_theta/1526_log.png\n",
      "size_128/20_den_non_theta/2739_log.png\n",
      "size_128/20_den_non_theta/1576_log.png\n",
      "size_128/20_den_non_theta/2390_log.png\n",
      "size_128/20_den_non_theta/2525_log.png\n",
      "size_128/20_den_non_theta/1155_log.png\n",
      "size_128/20_den_non_theta/2513_log.png\n",
      "size_128/20_den_non_theta/1665_log.png\n",
      "size_128/20_den_non_theta/2225_log.png\n",
      "size_128/20_den_non_theta/1647_log.png\n",
      "size_128/20_den_non_theta/2081_log.png\n",
      "size_128/20_den_non_theta/411_log.png\n",
      "size_128/20_den_non_theta/2307_log.png\n",
      "size_128/20_den_non_theta/141_log.png\n",
      "size_128/20_den_non_theta/2188_log.png\n",
      "size_128/20_den_non_theta/1739_log.png\n",
      "size_128/20_den_non_theta/529_log.png\n",
      "size_128/20_den_non_theta/549_log.png\n",
      "size_128/20_den_non_theta/1379_log.png\n",
      "size_128/20_den_non_theta/1791_log.png\n",
      "size_128/20_den_non_theta/201_log.png\n",
      "size_128/20_den_non_theta/1865_log.png\n",
      "size_128/20_den_non_theta/2246_log.png\n",
      "size_128/20_den_non_theta/614_log.png\n",
      "size_128/20_den_non_theta/1340_log.png\n",
      "size_128/20_den_non_theta/431_log.png\n",
      "size_128/20_den_non_theta/473_log.png\n",
      "size_128/20_den_non_theta/1681_log.png\n",
      "size_128/20_den_non_theta/1207_log.png\n",
      "size_128/20_den_non_theta/2926_log.png\n",
      "size_128/20_den_non_theta/89_log.png\n",
      "size_128/20_den_non_theta/2779_log.png\n",
      "size_128/20_den_non_theta/1659_log.png\n",
      "size_128/20_den_non_theta/725_log.png\n",
      "size_128/20_den_non_theta/959_log.png\n",
      "size_128/20_den_non_theta/1118_log.png\n",
      "size_128/20_den_non_theta/2494_log.png\n",
      "size_128/20_den_non_theta/2602_log.png\n",
      "size_128/20_den_non_theta/2835_log.png\n",
      "size_128/20_den_non_theta/2063_log.png\n",
      "size_128/20_den_non_theta/689_log.png\n",
      "size_128/20_den_non_theta/470_log.png\n",
      "size_128/20_den_non_theta/1117_log.png\n",
      "size_128/20_den_non_theta/2189_log.png\n",
      "size_128/20_den_non_theta/1847_log.png\n",
      "size_128/20_den_non_theta/298_log.png\n",
      "size_128/20_den_non_theta/1652_log.png\n",
      "size_128/20_den_non_theta/436_log.png\n",
      "size_128/20_den_non_theta/2746_log.png\n",
      "size_128/20_den_non_theta/2596_log.png\n",
      "size_128/20_den_non_theta/1766_log.png\n",
      "size_128/20_den_non_theta/2051_log.png\n",
      "size_128/20_den_non_theta/1507_log.png\n",
      "size_128/20_den_non_theta/1262_log.png\n",
      "size_128/20_den_non_theta/2747_log.png\n",
      "size_128/20_den_non_theta/739_log.png\n",
      "size_128/20_den_non_theta/1796_log.png\n",
      "size_128/20_den_non_theta/1198_log.png\n",
      "size_128/20_den_non_theta/710_log.png\n",
      "size_128/20_den_non_theta/1089_log.png\n",
      "size_128/20_den_non_theta/1706_log.png\n",
      "size_128/20_den_non_theta/2535_log.png\n",
      "size_128/20_den_non_theta/1760_log.png\n",
      "size_128/20_den_non_theta/1562_log.png\n",
      "size_128/20_den_non_theta/1594_log.png\n",
      "size_128/20_den_non_theta/579_log.png\n",
      "size_128/20_den_non_theta/231_log.png\n",
      "size_128/20_den_non_theta/1753_log.png\n",
      "size_128/20_den_non_theta/1243_log.png\n",
      "size_128/20_den_non_theta/677_log.png\n",
      "size_128/20_den_non_theta/2671_log.png\n",
      "size_128/20_den_non_theta/1777_log.png\n",
      "size_128/20_den_non_theta/2348_log.png\n",
      "size_128/20_den_non_theta/2229_log.png\n",
      "size_128/20_den_non_theta/2519_log.png\n",
      "size_128/20_den_non_theta/548_log.png\n",
      "size_128/20_den_non_theta/2133_log.png\n",
      "size_128/20_den_non_theta/2903_log.png\n",
      "size_128/20_den_non_theta/2929_log.png\n",
      "size_128/20_den_non_theta/466_log.png\n",
      "size_128/20_den_non_theta/1727_log.png\n",
      "size_128/20_den_non_theta/1967_log.png\n",
      "size_128/20_den_non_theta/147_log.png\n",
      "size_128/20_den_non_theta/2014_log.png\n",
      "size_128/20_den_non_theta/2024_log.png\n",
      "size_128/20_den_non_theta/2829_log.png\n",
      "size_128/20_den_non_theta/1927_log.png\n",
      "size_128/20_den_non_theta/2699_log.png\n",
      "size_128/20_den_non_theta/1353_log.png\n",
      "size_128/20_den_non_theta/1051_log.png\n",
      "size_128/20_den_non_theta/1947_log.png\n",
      "size_128/20_den_non_theta/1163_log.png\n",
      "size_128/20_den_non_theta/341_log.png\n",
      "size_128/20_den_non_theta/1061_log.png\n",
      "size_128/20_den_non_theta/85_log.png\n",
      "size_128/20_den_non_theta/2227_log.png\n",
      "size_128/20_den_non_theta/1921_log.png\n",
      "size_128/20_den_non_theta/1517_log.png\n",
      "size_128/20_den_non_theta/2942_log.png\n",
      "size_128/20_den_non_theta/1898_log.png\n",
      "size_128/20_den_non_theta/1436_log.png\n",
      "size_128/20_den_non_theta/1450_log.png\n",
      "size_128/20_den_non_theta/471_log.png\n",
      "size_128/20_den_non_theta/1910_log.png\n",
      "size_128/20_den_non_theta/999_log.png\n",
      "size_128/20_den_non_theta/1959_log.png\n",
      "size_128/20_den_non_theta/1171_log.png\n",
      "size_128/20_den_non_theta/1973_log.png\n",
      "size_128/20_den_non_theta/388_log.png\n",
      "size_128/20_den_non_theta/1985_log.png\n",
      "size_128/20_den_non_theta/334_log.png\n",
      "size_128/20_den_non_theta/2685_log.png\n",
      "size_128/20_den_non_theta/1774_log.png\n",
      "size_128/20_den_non_theta/1810_log.png\n",
      "size_128/20_den_non_theta/2606_log.png\n",
      "size_128/20_den_non_theta/2301_log.png\n",
      "size_128/20_den_non_theta/410_log.png\n",
      "size_128/20_den_non_theta/1893_log.png\n",
      "size_128/20_den_non_theta/958_log.png\n",
      "size_128/20_den_non_theta/1531_log.png\n",
      "size_128/20_den_non_theta/2413_log.png\n"
     ]
    }
   ],
   "source": [
    "import os\n",
    "\n",
    "logs = glob.glob('size_128/20_den_non_theta/*_log.png')\n",
    "count = 0\n",
    "for img_file in glob.glob('size_128/20_den_non_theta/*_img.png'):\n",
    "    if img_file[:-8] + '_log.png' not in logs: \n",
    "        count += 1\n",
    "        print(img_file[:-8] + '_log.png')"
   ]
  },
  {
   "cell_type": "code",
   "execution_count": 10,
   "metadata": {},
   "outputs": [
    {
     "data": {
      "text/plain": [
       "2500"
      ]
     },
     "execution_count": 10,
     "metadata": {},
     "output_type": "execute_result"
    }
   ],
   "source": [
    "len(glob.glob('size_128/20_den_non_theta/*_log.png')) + count"
   ]
  },
  {
   "cell_type": "code",
   "execution_count": 11,
   "metadata": {},
   "outputs": [],
   "source": [
    "import imageio"
   ]
  },
  {
   "cell_type": "code",
   "execution_count": 51,
   "metadata": {},
   "outputs": [],
   "source": [
    "inp_img = imageio.imread(glob.glob('size_128/20_den_results/9632.png')[0])"
   ]
  },
  {
   "cell_type": "code",
   "execution_count": 44,
   "metadata": {},
   "outputs": [],
   "source": [
    "inp_img = imageio.imread(glob.glob('size_128/20_den_non_theta_results/1122.png')[0])"
   ]
  },
  {
   "cell_type": "code",
   "execution_count": 50,
   "metadata": {},
   "outputs": [
    {
     "name": "stdout",
     "output_type": "stream",
     "text": [
      "10192.png  2352.png  4592.png  672.png\t 8512.png\t   generator.pt\r\n",
      "112.png    2912.png  5152.png  6832.png  9072.png\t   loss_history.npy\r\n",
      "1232.png   3472.png  5712.png  7392.png  9632.png\r\n",
      "1792.png   4032.png  6272.png  7952.png  discriminator.pt\r\n"
     ]
    }
   ],
   "source": [
    "!ls size_128/20_den_results/"
   ]
  },
  {
   "cell_type": "code",
   "execution_count": 42,
   "metadata": {},
   "outputs": [],
   "source": [
    "inp_img = (inp_img - inp_img.min()) / (inp_img.max() - inp_img.min())"
   ]
  },
  {
   "cell_type": "code",
   "execution_count": 52,
   "metadata": {},
   "outputs": [
    {
     "data": {
      "text/plain": [
       "<matplotlib.image.AxesImage at 0x7f90df4d8c18>"
      ]
     },
     "execution_count": 52,
     "metadata": {},
     "output_type": "execute_result"
    },
    {
     "data": {
      "image/png": "[encoded data removed]",
      "text/plain": [
       "<Figure size 432x288 with 1 Axes>"
      ]
     },
     "metadata": {
      "needs_background": "light"
     },
     "output_type": "display_data"
    }
   ],
   "source": [
    "import matplotlib.pyplot as plt\n",
    "\n",
    "plt.imshow(inp_img)"
   ]
  },
  {
   "cell_type": "code",
   "execution_count": 70,
   "metadata": {},
   "outputs": [],
   "source": [
    "import numpy as np\n",
    "\n",
    "history = np.load('size_128/20_den_non_theta_results/loss_history.npy', allow_pickle=True).item()\n",
    "history2 = np.load('size_128/20_den_results/loss_history.npy', allow_pickle=True).item()"
   ]
  },
  {
   "cell_type": "code",
   "execution_count": 69,
   "metadata": {},
   "outputs": [
    {
     "data": {
      "image/png": "[encoded data removed]",
      "text/plain": [
       "<Figure size 432x288 with 1 Axes>"
      ]
     },
     "metadata": {
      "needs_background": "light"
     },
     "output_type": "display_data"
    }
   ],
   "source": [
    "plt.plot(history['G'], label='Generator')\n",
    "plt.plot(history['D'], label='Discriminator')\n",
    "plt.yscale('log')\n",
    "plt.legend()\n",
    "plt.show()"
   ]
  },
  {
   "cell_type": "code",
   "execution_count": 71,
   "metadata": {},
   "outputs": [
    {
     "data": {
      "image/png": "[encoded data removed]",
      "text/plain": [
       "<Figure size 432x288 with 1 Axes>"
      ]
     },
     "metadata": {
      "needs_background": "light"
     },
     "output_type": "display_data"
    }
   ],
   "source": [
    "plt.plot(history2['G'], label='Generator')\n",
    "plt.plot(history2['D'], label='Discriminator')\n",
    "plt.yscale('log')\n",
    "plt.legend()\n",
    "plt.show()"
   ]
  },
  {
   "cell_type": "code",
   "execution_count": 66,
   "metadata": {},
   "outputs": [
    {
     "ename": "IndexError",
     "evalue": "too many indices for array: array is 0-dimensional, but 1 were indexed",
     "output_type": "error",
     "traceback": [
      "\u001b[0;31m----------------------------------------------------------------------\u001b[0m",
      "\u001b[0;31mIndexError\u001b[0m                           Traceback (most recent call last)",
      "\u001b[0;32m<ipython-input-66-c220dbbe221f>\u001b[0m in \u001b[0;36m<module>\u001b[0;34m\u001b[0m\n\u001b[0;32m----> 1\u001b[0;31m \u001b[0mhistory\u001b[0m\u001b[0;34m[\u001b[0m\u001b[0;36m0\u001b[0m\u001b[0;34m]\u001b[0m\u001b[0;34m\u001b[0m\u001b[0m\n\u001b[0m",
      "\u001b[0;31mIndexError\u001b[0m: too many indices for array: array is 0-dimensional, but 1 were indexed"
     ]
    }
   ],
   "source": [
    "history[0]"
   ]
  },
  {
   "cell_type": "code",
   "execution_count": 72,
   "metadata": {},
   "outputs": [],
   "source": [
    "f = open('example_log.xml')\n",
    "s = f.read()"
   ]
  },
  {
   "cell_type": "code",
   "execution_count": 81,
   "metadata": {},
   "outputs": [],
   "source": [
    "import re\n",
    "\n",
    "close_list = s[re.search(\"close\", s).start():re.search(\"/close\", s).start()]"
   ]
  },
  {
   "cell_type": "code",
   "execution_count": 78,
   "metadata": {},
   "outputs": [
    {
     "data": {
      "text/plain": [
       "6249"
      ]
     },
     "execution_count": 78,
     "metadata": {},
     "output_type": "execute_result"
    }
   ],
   "source": []
  },
  {
   "cell_type": "code",
   "execution_count": 102,
   "metadata": {},
   "outputs": [],
   "source": [
    "path_x = np.array(re.findall(r'node x=\\\"(.+)\\\" y', close_list)).astype(int)\n",
    "path_y = np.array(re.findall(r'node x=\\\".+\\\" y=\\\"(.+)\\\" F=', close_list)).astype(int)"
   ]
  },
  {
   "cell_type": "code",
   "execution_count": 156,
   "metadata": {},
   "outputs": [],
   "source": [
    "values = np.array(re.findall(r'g=\\\"([\\d\\.]+)\\\"', close_list)).astype(float)"
   ]
  },
  {
   "cell_type": "code",
   "execution_count": 157,
   "metadata": {},
   "outputs": [
    {
     "data": {
      "text/plain": [
       "array([24.61173432, 30.40520699, 24.55634919, 23.69950338, 29.5006211 ,\n",
       "       29.98300002, 23.61860693, 24.67945481, 28.61860693, 23.43221486,\n",
       "       25.02848514, 27.76745174, 30.04318217, 25.55634919, 26.95947342,\n",
       "       22.75667415, 26.21320344, 23.55634919, 29.06152821, 29.10035293,\n",
       "       29.65297691, 32.55634919, 22.627417  , 23.26805554, 28.17212229,\n",
       "       23.71862685, 28.15694231, 29.77589364, 27.26455312, 22.45888165,\n",
       "       24.16190046, 26.38730108, 21.82844351, 24.79898987, 25.55634919,\n",
       "       28.69950338, 22.55634919, 28.80256044, 23.2126704 , 31.55634919,\n",
       "       27.27492815, 29.41070943, 21.63911172, 27.83645908, 31.86952465,\n",
       "       29.61173432, 26.42377295, 22.79241716, 23.33577603, 26.88090451,\n",
       "       22.27492815, 27.75667415, 25.94151399, 30.55634919, 23.38477631,\n",
       "       25.61579464, 25.02848514, 28.61860693, 24.16190046, 23.68480636,\n",
       "       21.49278029, 20.92087434, 24.86952465, 12.64911064, 12.64911064,\n",
       "       24.2126704 , 28.43221486, 29.26254602, 27.627417  , 21.55634919,\n",
       "       31.2126704 , 29.55634919, 29.55634919, 26.82844351, 26.63911172,\n",
       "       22.2126704 , 20.6553687 , 30.68480636, 25.6553687 , 29.97056275,\n",
       "       28.55634919, 24.67945481, 21.97056275, 23.71862685, 22.79241716,\n",
       "       25.92087434, 31.2126704 , 27.45888165, 27.55634919, 21.28373822,\n",
       "       30.2126704 , 20.0436223 , 26.55634919, 22.37494806, 29.2126704 ,\n",
       "       12.36931688, 12.36931688, 28.26805554, 25.55634919, 25.0436223 ,\n",
       "       20.53722572, 24.55634919, 23.55634919, 22.55634919, 22.81822168,\n",
       "       24.2126704 , 21.55634919, 20.55634919, 11.70469991, 11.70469991,\n",
       "       23.45531109, 26.49278029, 19.67945481, 30.33577603, 30.68480636,\n",
       "       29.37494806, 21.2126704 , 30.45531109, 27.27492815, 12.16552506,\n",
       "       12.16552506, 19.20937271, 25.53722572, 29.81822168, 28.2126704 ,\n",
       "       29.2126704 , 20.29543293, 24.59783521, 19.59783521, 21.44873838,\n",
       "       11.40175425, 11.40175425, 18.71862685, 23.68480636, 26.28373822,\n",
       "       19.55634919, 22.04109753, 22.81822168, 10.77032961, 10.77032961,\n",
       "       11.18033989, 10.44030651,  9.8488578 , 20.2126704 , 12.04159458,\n",
       "       19.31168992, 12.04159458, 10.44030651, 16.97056275,  9.8488578 ,\n",
       "       16.97056275, 11.04536102, 17.81822168, 11.04536102, 12.        ,\n",
       "       19.2126704 , 12.        , 18.33577603, 12.16552506, 12.16552506,\n",
       "       16.2788206 , 16.2788206 , 10.19803903, 17.69180601, 10.19803903,\n",
       "       20.2126704 , 11.        , 18.68480636, 11.        , 11.18033989,\n",
       "       17.02938637, 12.36931688, 12.36931688, 15.62049935, 15.62049935,\n",
       "       17.79241716,  9.48683298,  9.48683298,  8.94427191, 12.64911064,\n",
       "       12.64911064, 15.        , 15.        ,  8.94427191, 16.55634919,\n",
       "       12.04159458, 18.2126704 , 12.04159458, 17.37494806, 13.        ,\n",
       "       13.        , 14.4222051 , 14.4222051 , 11.04536102, 20.62688397,\n",
       "       11.04536102, 16.2788206 , 13.41640786, 13.41640786, 13.89244399,\n",
       "       13.89244399, 10.04987562, 18.43908891, 10.04987562, 11.18033989,\n",
       "       11.18033989, 15.55634919, 15.55634919,  9.21954446,  9.21954446,\n",
       "       16.44873838,  8.06225775,  8.06225775,  8.54400375, 17.55634919,\n",
       "        8.54400375, 10.        , 21.2126704 , 10.        , 17.2126704 ,\n",
       "       11.40175425, 11.40175425, 14.86606875, 14.86606875, 11.70469991,\n",
       "       11.70469991, 14.2126704 , 14.2126704 ,  9.05538514,  9.05538514,\n",
       "       12.08304597, 12.08304597, 13.60147051, 13.60147051, 10.04987562,\n",
       "       21.44873838, 10.04987562, 15.62049935, 12.52996409, 12.52996409,\n",
       "       13.03840481, 13.03840481,  8.24621125, 18.55634919,  8.24621125,\n",
       "        7.21110255,  7.21110255, 16.2126704 ,  7.61577311,  7.61577311,\n",
       "       10.19803903, 10.19803903, 14.86606875, 14.86606875,  9.        ,\n",
       "       22.2126704 ,  9.        , 10.44030651, 10.44030651, 14.14213562,\n",
       "       14.14213562, 15.2126704 , 10.77032961, 10.77032961, 13.45362405,\n",
       "       13.45362405,  8.06225775,  8.06225775,  6.40312424,  6.40312424,\n",
       "       22.37494806,  9.05538514,  9.05538514, 11.18033989, 11.18033989,\n",
       "       12.80624847, 12.80624847, 11.66190379, 11.66190379, 12.20655562,\n",
       "       12.20655562,  7.28010989,  7.28010989,  6.70820393,  6.70820393,\n",
       "        9.21954446,  9.21954446, 14.2126704 , 14.2126704 , 23.2126704 ,\n",
       "        8.        ,  8.        ,  5.65685425,  5.65685425,  9.48683298,\n",
       "        9.48683298, 13.45362405, 13.45362405,  7.07106781,  7.07106781,\n",
       "        5.83095189,  5.83095189,  9.8488578 ,  9.8488578 , 12.72792206,\n",
       "       12.72792206, 23.33577603,  8.06225775,  8.06225775,  6.32455532,\n",
       "        6.32455532, 10.29563014, 10.29563014, 12.04159458, 12.04159458,\n",
       "        5.        ,  5.        , 10.81665383, 10.81665383, 11.40175425,\n",
       "       11.40175425, 13.61422679,  8.24621125,  8.24621125, 13.60147051,\n",
       "        7.        ,  8.54400375, 12.80624847,  6.08276253, 28.2126704 ,\n",
       "        5.38516481,  8.94427191,  8.94427191, 12.04159458,  7.07106781,\n",
       "        9.43398113,  9.43398113, 11.3137085 , 10.        ,  5.38516481,\n",
       "       10.        , 10.63014581,  7.28010989, 13.03840481,  6.        ,\n",
       "       28.44873838,  4.47213595, 10.63014581,  5.09901951, 27.2126704 ,\n",
       "        5.09901951,  7.61577311, 12.20655562,  6.08276253,  8.06225775,\n",
       "        8.06225775, 11.40175425,  5.        ,  8.60232527,  8.60232527,\n",
       "       10.63014581,  4.47213595,  9.21954446,  9.21954446,  9.89949494,\n",
       "       11.3137085 ,  5.        , 26.2126704 ,  5.        , 29.04109753,\n",
       "        3.60555128, 12.53915583,  6.32455532, 27.62688397,  4.12310563,\n",
       "        9.89949494,  4.12310563,  6.70820393, 11.66190379, 12.04159458,\n",
       "        5.09901951,  5.09901951,  7.21110255,  7.21110255, 10.81665383,\n",
       "        2.82842712,  4.24264069,  7.81024968,  7.81024968, 10.        ,\n",
       "        8.48528137,  3.60555128,  8.48528137,  9.21954446, 27.2126704 ,\n",
       "        4.        , 10.63014581,  4.        ,  8.54400375, 12.15550722,\n",
       "        9.21954446,  3.16227766, 12.80624847,  5.38516481,  5.38516481,\n",
       "       11.2161167 ,  5.83095189, 11.40175425,  4.12310563, 10.30308785,\n",
       "        6.40312424,  7.07106781,  9.43398113,  7.81024968,  8.60232527,\n",
       "        7.61577311, 11.91371443,  5.83095189,  8.63919221,  2.23606798,\n",
       "       10.        ,  3.        ,  4.47213595,  7.40312424,  2.23606798,\n",
       "       12.23407613,  4.47213595,  7.28010989, 10.92997141,  5.        ,\n",
       "       24.31168992,  7.07106781,  9.95405752, 10.87526019,  3.16227766,\n",
       "        5.65685425, 13.11132817,  5.        ,  8.40312424,  1.41421356,\n",
       "        6.70820393, 11.83095189, 24.2126704 ,  7.        ,  8.99322956,\n",
       "        6.40312424,  8.06225775,  7.21110255,  4.47213595,  6.40312424,\n",
       "        9.5654019 ,  2.        ,  6.32455532, 10.83095189, 12.72767956,\n",
       "        4.24264069,  1.        , 25.29543293,  6.08276253,  9.83095189,\n",
       "       25.2126704 ,  6.        ,  8.83095189,  6.08276253,  7.83095189,\n",
       "        5.        ,  6.83095189,  3.60555128,  7.07106781, 10.52622986,\n",
       "        2.23606798,  5.83095189,  4.12310563,  5.65685425,  9.40312424,\n",
       "        1.        ,  5.38516481,  3.16227766,  6.40312424, 10.40312424,\n",
       "        1.41421356,  1.41421356, 12.48588677,  3.60555128,  3.16227766,\n",
       "        5.38516481,  1.41421356,  4.47213595,  4.12310563,  2.        ,\n",
       "       11.40312424,  2.23606798,  1.        ,  4.12310563,  4.47213595,\n",
       "        2.82842712, 11.50214375,  2.23606798,  3.60555128,  5.09901951,\n",
       "        2.23606798,  2.23606798, 12.40312424,  3.16227766,  2.82842712,\n",
       "        3.16227766,  3.60555128,  4.12310563,  4.12310563, 29.37494806,\n",
       "        5.        ,  5.09901951,  4.47213595,  4.24264069,  3.16227766,\n",
       "       29.81822168,  4.24264069,  5.        ,  3.60555128,  3.        ,\n",
       "        4.        ,  1.        ,  3.        ,  5.83095189, 28.44873838,\n",
       "        3.16227766,  3.        ,  0.        ,  4.        ,  5.        ,\n",
       "        2.        ,  2.23606798,  2.82842712,  7.81024968,  2.        ,\n",
       "       11.78828904,  3.60555128])"
      ]
     },
     "execution_count": 157,
     "metadata": {},
     "output_type": "execute_result"
    }
   ],
   "source": [
    "values"
   ]
  },
  {
   "cell_type": "code",
   "execution_count": 155,
   "metadata": {},
   "outputs": [
    {
     "data": {
      "text/plain": [
       "(537,)"
      ]
     },
     "execution_count": 155,
     "metadata": {},
     "output_type": "execute_result"
    }
   ],
   "source": [
    "values.shape"
   ]
  },
  {
   "cell_type": "code",
   "execution_count": 105,
   "metadata": {},
   "outputs": [
    {
     "data": {
      "text/plain": [
       "((537,), (537,))"
      ]
     },
     "execution_count": 105,
     "metadata": {},
     "output_type": "execute_result"
    }
   ],
   "source": [
    "path_x.shape, path_y.shape"
   ]
  },
  {
   "cell_type": "code",
   "execution_count": 106,
   "metadata": {},
   "outputs": [
    {
     "data": {
      "text/plain": [
       "(24, 0, 24.61173432424146)"
      ]
     },
     "execution_count": 106,
     "metadata": {},
     "output_type": "execute_result"
    }
   ],
   "source": [
    "path_x[0], path_y[0], values[0]"
   ]
  },
  {
   "cell_type": "code",
   "execution_count": 107,
   "metadata": {},
   "outputs": [
    {
     "data": {
      "text/plain": [
       "(15, 18, 3.605551275463989)"
      ]
     },
     "execution_count": 107,
     "metadata": {},
     "output_type": "execute_result"
    }
   ],
   "source": [
    "path_x[-1], path_y[-1], values[-1]"
   ]
  },
  {
   "cell_type": "code",
   "execution_count": 160,
   "metadata": {},
   "outputs": [],
   "source": [
    "ex_map = np.zeros((25, 25))"
   ]
  },
  {
   "cell_type": "code",
   "execution_count": 161,
   "metadata": {},
   "outputs": [],
   "source": [
    "ex_map[path_y, path_x] = values"
   ]
  },
  {
   "cell_type": "code",
   "execution_count": 163,
   "metadata": {},
   "outputs": [
    {
     "data": {
      "text/plain": [
       "(25, 25)"
      ]
     },
     "execution_count": 163,
     "metadata": {},
     "output_type": "execute_result"
    }
   ],
   "source": [
    "ex_map.shape"
   ]
  },
  {
   "cell_type": "code",
   "execution_count": 164,
   "metadata": {},
   "outputs": [
    {
     "data": {
      "text/plain": [
       "<matplotlib.image.AxesImage at 0x7f90dd576e48>"
      ]
     },
     "execution_count": 164,
     "metadata": {},
     "output_type": "execute_result"
    },
    {
     "data": {
      "image/png": "[encoded data removed]",
      "text/plain": [
       "<Figure size 432x288 with 1 Axes>"
      ]
     },
     "metadata": {
      "needs_background": "light"
     },
     "output_type": "display_data"
    }
   ],
   "source": [
    "plt.imshow(ex_map)"
   ]
  },
  {
   "cell_type": "code",
   "execution_count": 165,
   "metadata": {},
   "outputs": [],
   "source": [
    "f = open('example_log_rev.xml')\n",
    "s = f.read()"
   ]
  },
  {
   "cell_type": "code",
   "execution_count": 166,
   "metadata": {},
   "outputs": [],
   "source": [
    "close_list = s[re.search(\"close\", s).start():re.search(\"/close\", s).start()]"
   ]
  },
  {
   "cell_type": "code",
   "execution_count": 167,
   "metadata": {},
   "outputs": [],
   "source": [
    "path_x = np.array(re.findall(r'node x=\\\"(.+)\\\" y', close_list)).astype(int)\n",
    "path_y = np.array(re.findall(r'node x=\\\".+\\\" y=\\\"(.+)\\\" F=', close_list)).astype(int)\n",
    "values = np.array(re.findall(r'g=\\\"([\\d\\.]+)\\\"', close_list)).astype(float)"
   ]
  },
  {
   "cell_type": "code",
   "execution_count": 168,
   "metadata": {},
   "outputs": [],
   "source": [
    "ex_map_rev = np.zeros((25, 25))\n",
    "ex_map_rev[path_y, path_x] = values"
   ]
  },
  {
   "cell_type": "code",
   "execution_count": 169,
   "metadata": {},
   "outputs": [
    {
     "data": {
      "text/plain": [
       "<matplotlib.image.AxesImage at 0x7f90dd4e5dd8>"
      ]
     },
     "execution_count": 169,
     "metadata": {},
     "output_type": "execute_result"
    },
    {
     "data": {
      "image/png": "[encoded data removed]",
      "text/plain": [
       "<Figure size 432x288 with 1 Axes>"
      ]
     },
     "metadata": {
      "needs_background": "light"
     },
     "output_type": "display_data"
    }
   ],
   "source": [
    "plt.imshow(ex_map_rev)"
   ]
  },
  {
   "cell_type": "code",
   "execution_count": 181,
   "metadata": {},
   "outputs": [
    {
     "data": {
      "text/plain": [
       "29.818221679015885"
      ]
     },
     "execution_count": 181,
     "metadata": {},
     "output_type": "execute_result"
    }
   ],
   "source": [
    " ex_map_rev[20][12]"
   ]
  },
  {
   "cell_type": "code",
   "execution_count": 182,
   "metadata": {},
   "outputs": [],
   "source": [
    "org_length = max(ex_map_rev[20][12], ex_map[7][12])"
   ]
  },
  {
   "cell_type": "code",
   "execution_count": 272,
   "metadata": {},
   "outputs": [],
   "source": [
    "lengths = []\n",
    "weights = [1, 0.9, 0.8, 0.7, 0.6, 0.5, 0.4, 0.3]\n",
    "\n",
    "for percent in [0, 0.05, 0.1, 0.15, 0.2, 0.25, 0.3, 0.35]:\n",
    "    lengths += [org_length + round(org_length * percent)]\n",
    "\n",
    "ppm = np.zeros_like(ex_map).astype(float)\n",
    "dists = ex_map.copy() + ex_map_rev.copy()\n",
    "dists[dists == 0] = dists.max() + 2\n",
    "prev_length = lengths[0] - 2\n",
    "for length, weight in zip(lengths, weights[::-1]):\n",
    "    dists[dists > length] += weight * 1.5\n",
    "    prev_length = length"
   ]
  },
  {
   "cell_type": "code",
   "execution_count": 273,
   "metadata": {},
   "outputs": [
    {
     "data": {
      "text/plain": [
       "(29.818221679015885, 54.71673572229359)"
      ]
     },
     "execution_count": 273,
     "metadata": {},
     "output_type": "execute_result"
    }
   ],
   "source": [
    "dists.min(), dists.max()"
   ]
  },
  {
   "cell_type": "code",
   "execution_count": null,
   "metadata": {},
   "outputs": [],
   "source": []
  },
  {
   "cell_type": "code",
   "execution_count": 274,
   "metadata": {},
   "outputs": [
    {
     "data": {
      "text/plain": [
       "<matplotlib.image.AxesImage at 0x7f90dca495f8>"
      ]
     },
     "execution_count": 274,
     "metadata": {},
     "output_type": "execute_result"
    },
    {
     "data": {
      "image/png": "[encoded data removed]",
      "text/plain": [
       "<Figure size 432x288 with 1 Axes>"
      ]
     },
     "metadata": {
      "needs_background": "light"
     },
     "output_type": "display_data"
    }
   ],
   "source": [
    "plt.imshow(dists, cmap='gray')"
   ]
  },
  {
   "cell_type": "code",
   "execution_count": null,
   "metadata": {},
   "outputs": [],
   "source": []
  }
 ],
 "metadata": {
  "kernelspec": {
   "display_name": "Python 3",
   "language": "python",
   "name": "python3"
  },
  "language_info": {
   "codemirror_mode": {
    "name": "ipython",
    "version": 3
   },
   "file_extension": ".py",
   "mimetype": "text/x-python",
   "name": "python",
   "nbconvert_exporter": "python",
   "pygments_lexer": "ipython3",
   "version": "3.6.5"
  }
 },
 "nbformat": 4,
 "nbformat_minor": 4
}
